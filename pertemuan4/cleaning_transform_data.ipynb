{
 "cells": [
  {
   "cell_type": "code",
   "execution_count": 12,
   "id": "741b1e8a-faf0-437a-8b69-109f8e1f7f31",
   "metadata": {},
   "outputs": [],
   "source": [
    "import pandas as pd"
   ]
  },
  {
   "cell_type": "code",
   "execution_count": 14,
   "id": "75395bba-525e-46c1-bdbf-c5c24abca7be",
   "metadata": {},
   "outputs": [],
   "source": [
    "# Load the uploaded Excel file to inspect its contents\n",
    "file_path = 'Luas Panen, Produksi, dan Produktivitas Padi Menurut Provinsi, 2024.csv'"
   ]
  },
  {
   "cell_type": "code",
   "execution_count": 18,
   "id": "658802a3-698b-48a3-aec5-41a448227cdf",
   "metadata": {},
   "outputs": [],
   "source": [
    "# Load the Excel file to check sheet names and structure\n",
    "data = pd.read_csv(file_path)"
   ]
  },
  {
   "cell_type": "code",
   "execution_count": 20,
   "id": "ae4db841-f508-4c8b-9ae0-849da703c5ce",
   "metadata": {},
   "outputs": [],
   "source": [
    "# Remove rows with extra headers or metadata (the first 3 rows in this case)\n",
    "cleaned_data = data.iloc[3:].reset_index(drop=True)"
   ]
  },
  {
   "cell_type": "code",
   "execution_count": 22,
   "id": "35a61e6f-1325-4348-80d3-7da6d2c77322",
   "metadata": {},
   "outputs": [],
   "source": [
    "# Rename columns to appropriate names\n",
    "cleaned_data.columns = ['Provinsi', 'Luas Panen (ha)', 'Produktivitas (ku/ha)', 'Produksi (ton)']"
   ]
  },
  {
   "cell_type": "code",
   "execution_count": 26,
   "id": "dce578a4-4dc4-4c54-ae71-18a88ee4f147",
   "metadata": {},
   "outputs": [
    {
     "data": {
      "text/html": [
       "<div>\n",
       "<style scoped>\n",
       "    .dataframe tbody tr th:only-of-type {\n",
       "        vertical-align: middle;\n",
       "    }\n",
       "\n",
       "    .dataframe tbody tr th {\n",
       "        vertical-align: top;\n",
       "    }\n",
       "\n",
       "    .dataframe thead th {\n",
       "        text-align: right;\n",
       "    }\n",
       "</style>\n",
       "<table border=\"1\" class=\"dataframe\">\n",
       "  <thead>\n",
       "    <tr style=\"text-align: right;\">\n",
       "      <th></th>\n",
       "      <th>Provinsi</th>\n",
       "      <th>Luas Panen (ha)</th>\n",
       "      <th>Produktivitas (ku/ha)</th>\n",
       "      <th>Produksi (ton)</th>\n",
       "    </tr>\n",
       "  </thead>\n",
       "  <tbody>\n",
       "    <tr>\n",
       "      <th>0</th>\n",
       "      <td>ACEH</td>\n",
       "      <td>301081.97</td>\n",
       "      <td>54.58</td>\n",
       "      <td>1643355.07</td>\n",
       "    </tr>\n",
       "    <tr>\n",
       "      <th>1</th>\n",
       "      <td>SUMATERA UTARA</td>\n",
       "      <td>419089.12</td>\n",
       "      <td>51.4</td>\n",
       "      <td>2154117.08</td>\n",
       "    </tr>\n",
       "    <tr>\n",
       "      <th>2</th>\n",
       "      <td>SUMATERA BARAT</td>\n",
       "      <td>296215.93</td>\n",
       "      <td>45.64</td>\n",
       "      <td>1352048.77</td>\n",
       "    </tr>\n",
       "    <tr>\n",
       "      <th>3</th>\n",
       "      <td>RIAU</td>\n",
       "      <td>57003.35</td>\n",
       "      <td>39.62</td>\n",
       "      <td>225836.5</td>\n",
       "    </tr>\n",
       "    <tr>\n",
       "      <th>4</th>\n",
       "      <td>JAMBI</td>\n",
       "      <td>64119.24</td>\n",
       "      <td>45.44</td>\n",
       "      <td>291367.31</td>\n",
       "    </tr>\n",
       "  </tbody>\n",
       "</table>\n",
       "</div>"
      ],
      "text/plain": [
       "         Provinsi Luas Panen (ha) Produktivitas (ku/ha) Produksi (ton)\n",
       "0            ACEH       301081.97                 54.58     1643355.07\n",
       "1  SUMATERA UTARA       419089.12                  51.4     2154117.08\n",
       "2  SUMATERA BARAT       296215.93                 45.64     1352048.77\n",
       "3            RIAU        57003.35                 39.62       225836.5\n",
       "4           JAMBI        64119.24                 45.44      291367.31"
      ]
     },
     "execution_count": 26,
     "metadata": {},
     "output_type": "execute_result"
    }
   ],
   "source": [
    "# Check the cleaned data\n",
    "cleaned_data.head()"
   ]
  },
  {
   "cell_type": "code",
   "execution_count": 28,
   "id": "cc285438-9d12-4c5c-a28b-848d5276712a",
   "metadata": {},
   "outputs": [],
   "source": [
    "# Menyimpan DataFrame ke file CSV\n",
    "cleaned_data.to_csv('dataset_bersih.csv', index=False)  # index=False untuk menghilangkan indeks"
   ]
  },
  {
   "cell_type": "code",
   "execution_count": null,
   "id": "530f5f76-c98e-4af3-ac67-bdd0d79de750",
   "metadata": {},
   "outputs": [],
   "source": []
  }
 ],
 "metadata": {
  "kernelspec": {
   "display_name": "Python 3 (ipykernel)",
   "language": "python",
   "name": "python3"
  },
  "language_info": {
   "codemirror_mode": {
    "name": "ipython",
    "version": 3
   },
   "file_extension": ".py",
   "mimetype": "text/x-python",
   "name": "python",
   "nbconvert_exporter": "python",
   "pygments_lexer": "ipython3",
   "version": "3.12.7"
  }
 },
 "nbformat": 4,
 "nbformat_minor": 5
}
