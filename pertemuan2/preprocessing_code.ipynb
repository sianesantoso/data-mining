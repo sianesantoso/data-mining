{
 "cells": [
  {
   "cell_type": "code",
   "execution_count": 609,
   "id": "e53cf612-b3ac-4a11-abb4-84bd4b95ffd2",
   "metadata": {},
   "outputs": [],
   "source": [
    "import pandas as pd\n",
    "import numpy as np\n",
    "\n",
    "from sklearn.preprocessing import LabelEncoder"
   ]
  },
  {
   "cell_type": "code",
   "execution_count": 611,
   "id": "d53843a6-ee7d-4e82-b61b-f2b4d355a561",
   "metadata": {},
   "outputs": [],
   "source": [
    "# baca file simpan menjadi df\n",
    "df = pd.read_excel(\"dataKasus-1.xlsx\")"
   ]
  },
  {
   "cell_type": "code",
   "execution_count": 645,
   "id": "fee93737-ee00-45ef-8ed5-95722f5edddc",
   "metadata": {},
   "outputs": [
    {
     "data": {
      "text/plain": [
       "USIA                                0\n",
       "PARITAS                             0\n",
       "RIW HIPERTENSI                      0\n",
       "OBESITAS                            0\n",
       "RIW DM                              0\n",
       "RIW HIPERTENSI/PE DALAM KELUARGA    0\n",
       "SOSEK RENDAH                        0\n",
       "jarak_> 2 tahun                     0\n",
       "jarak_anak pertama                  0\n",
       "riw_Impending Eklamsia              0\n",
       "riw_Impending PE                    0\n",
       "riw_Kejang Konvulsi                 0\n",
       "riw_PE                              0\n",
       "riw_PEB                             0\n",
       "riw_PEB impending eklampsi          0\n",
       "riw_Tidak                           0\n",
       "_Non PE                             0\n",
       "_PE                                 0\n",
       "_PE gemelli                         0\n",
       "_PEB                                0\n",
       "_PEB impending eklampsi             0\n",
       "dtype: int64"
      ]
     },
     "execution_count": 645,
     "metadata": {},
     "output_type": "execute_result"
    }
   ],
   "source": [
    "# lihat jumlah baris null untuk setiap kolom\n",
    "df.isna().sum()"
   ]
  },
  {
   "cell_type": "code",
   "execution_count": 643,
   "id": "0cc6f0a9-3194-4fb5-a7b6-3addc83a36d4",
   "metadata": {},
   "outputs": [
    {
     "name": "stdout",
     "output_type": "stream",
     "text": [
      "<class 'pandas.core.frame.DataFrame'>\n",
      "RangeIndex: 561 entries, 0 to 560\n",
      "Data columns (total 21 columns):\n",
      " #   Column                            Non-Null Count  Dtype\n",
      "---  ------                            --------------  -----\n",
      " 0   USIA                              561 non-null    int32\n",
      " 1   PARITAS                           561 non-null    int64\n",
      " 2   RIW HIPERTENSI                    561 non-null    int64\n",
      " 3   OBESITAS                          561 non-null    int64\n",
      " 4   RIW DM                            561 non-null    int64\n",
      " 5   RIW HIPERTENSI/PE DALAM KELUARGA  561 non-null    int64\n",
      " 6   SOSEK RENDAH                      561 non-null    int64\n",
      " 7   jarak_> 2 tahun                   561 non-null    int32\n",
      " 8   jarak_anak pertama                561 non-null    int32\n",
      " 9   riw_Impending Eklamsia            561 non-null    int32\n",
      " 10  riw_Impending PE                  561 non-null    int32\n",
      " 11  riw_Kejang Konvulsi               561 non-null    int32\n",
      " 12  riw_PE                            561 non-null    int32\n",
      " 13  riw_PEB                           561 non-null    int32\n",
      " 14  riw_PEB impending eklampsi        561 non-null    int32\n",
      " 15  riw_Tidak                         561 non-null    int32\n",
      " 16  _Non PE                           561 non-null    int32\n",
      " 17  _PE                               561 non-null    int32\n",
      " 18  _PE gemelli                       561 non-null    int32\n",
      " 19  _PEB                              561 non-null    int32\n",
      " 20  _PEB impending eklampsi           561 non-null    int32\n",
      "dtypes: int32(15), int64(6)\n",
      "memory usage: 59.3 KB\n"
     ]
    }
   ],
   "source": [
    "# melihat tipe data tiap kolom\n",
    "df.info()"
   ]
  },
  {
   "cell_type": "code",
   "execution_count": 617,
   "id": "0ec1ba81-1ef4-400b-90f4-929b2a75d151",
   "metadata": {},
   "outputs": [],
   "source": [
    "# menghilangkan kolom Unnamed:12 yang semuanya berisi null\n",
    "df.drop(columns=['Unnamed: 12'], inplace = True)\n",
    "\n",
    "# menghilangkan kolom yang tidak terpakai sebagai atribut (NO, NAMA)\n",
    "df.drop(columns=['NO', 'NAMA'], inplace = True)"
   ]
  },
  {
   "cell_type": "code",
   "execution_count": 619,
   "id": "3f33b465-78ad-422f-a027-72e2a126fa08",
   "metadata": {},
   "outputs": [],
   "source": [
    "# Fungsi untuk membersihkan dan mengubah format kolom 'USIA' menjadi angka\n",
    "# Fungsi untuk membersihkan dan mengubah format kolom 'USIA' menjadi angka\n",
    "def extract_age(value):\n",
    "    try:\n",
    "        return int(''.join(filter(str.isdigit, str(value))))\n",
    "    except ValueError:\n",
    "        return np.nan\n",
    "\n",
    "# Terapkan fungsi di atas ke kolom 'USIA'\n",
    "df['USIA'] = df['USIA'].apply(extract_age)\n",
    "\n",
    "# Mengganti nilai NaN dengan rata-rata usia\n",
    "mean_age = df['USIA'].mean()\n",
    "df['USIA'] = df['USIA'].fillna(mean_age)  # Assign hasil kembali ke kolom\n",
    "\n",
    "# Casting kolom 'USIA' menjadi int setelah memastikan tidak ada nilai NaN\n",
    "df['USIA'] = df['USIA'].astype(int)"
   ]
  },
  {
   "cell_type": "code",
   "execution_count": 621,
   "id": "9de29e68-a4f3-4a6f-9842-806c7ce959c6",
   "metadata": {},
   "outputs": [],
   "source": [
    "# melakukan teknik one hot encoder pada kolom JARAK KELAHIRAN\n",
    "# Menghapus spasi di depan dan belakang\n",
    "df['JARAK KELAHIRAN'] = df['JARAK KELAHIRAN'].str.strip()\n",
    "\n",
    "# Melakukan one-hot encoding pada kolom 'JARAK KELAHIRAN'\n",
    "df = pd.get_dummies(df, columns=['JARAK KELAHIRAN'], prefix='jarak', drop_first=True)\n",
    "\n",
    "# Mengonversi kolom boolean menjadi integer (0 dan 1)\n",
    "df = df.astype({'jarak_> 2 tahun': 'int', 'jarak_anak pertama': 'int'})"
   ]
  },
  {
   "cell_type": "code",
   "execution_count": 623,
   "id": "5530e5b5-a93e-4621-b2c6-2b977c50e75d",
   "metadata": {},
   "outputs": [],
   "source": [
    "# mengubah nilai pada kolom RIW HIPERTENSI {'Tidak': 0, 'Ya': 1}\n",
    "# Ganti nilai di kolom 'RIW HIPERTENSI' menggunakan map\n",
    "mapping = {\n",
    "    'Tidak': 0,\n",
    "    'Ya': 1\n",
    "}\n",
    "df['RIW HIPERTENSI'] = df['RIW HIPERTENSI'].map(mapping)"
   ]
  },
  {
   "cell_type": "code",
   "execution_count": 625,
   "id": "67516a8a-ea4c-41b3-b944-a4860e7132aa",
   "metadata": {},
   "outputs": [],
   "source": [
    "mapping = {\n",
    "    'impending eklamsia': 'Impending Eklamsia',\n",
    "    'Impending Ekalmsia': 'Impending Eklamsia',\n",
    "    'PE, HELLP Syndrome': 'HELLP SYNDROM'\n",
    "}\n",
    "\n",
    "# Menggunakan map untuk mengganti nilai\n",
    "df['RIW PE'] = df['RIW PE'].map(mapping).fillna(df['RIW PE'])"
   ]
  },
  {
   "cell_type": "code",
   "execution_count": 627,
   "id": "8ead71cf-9a75-40c4-9507-94a57ae66a01",
   "metadata": {},
   "outputs": [],
   "source": [
    "# Melakukan one-hot encoding pada kolom 'RIW PE'\n",
    "df = pd.get_dummies(df, columns=['RIW PE'], prefix='riw', drop_first=True)\n",
    "\n",
    "# Mengonversi kolom boolean menjadi integer (0 dan 1)\n",
    "df = df.astype({'riw_Impending Eklamsia': 'int', \n",
    "                'riw_Impending PE': 'int', \n",
    "                'riw_Kejang Konvulsi': 'int',\n",
    "                'riw_PE': 'int',\n",
    "                'riw_PEB': 'int',\n",
    "                'riw_PEB impending eklampsi': 'int',\n",
    "                'riw_Tidak': 'int',\n",
    "               })"
   ]
  },
  {
   "cell_type": "code",
   "execution_count": 629,
   "id": "1f098d4c-fe3b-48c5-b8cd-428f8b2b42ba",
   "metadata": {},
   "outputs": [],
   "source": [
    "# mengubah nilai pada kolom OBESITAS {'Tidak': 0, 'Ya': 1}\n",
    "# Ganti nilai di kolom 'OBESITAS' menggunakan map\n",
    "mapping = {\n",
    "    'Tidak': 0,\n",
    "    'Ya': 1\n",
    "}\n",
    "df['OBESITAS'] = df['OBESITAS'].map(mapping)"
   ]
  },
  {
   "cell_type": "code",
   "execution_count": 631,
   "id": "be954f36-c86c-42cb-a122-a6e3bf0a872e",
   "metadata": {},
   "outputs": [],
   "source": [
    "# mengubah nilai pada kolom RIW DM {'Tidak': 0, 'Ya': 1}\n",
    "# Ganti nilai di kolom 'RIW DM' menggunakan map\n",
    "mapping = {\n",
    "    'Tidak': 0,\n",
    "    'Ya': 1\n",
    "}\n",
    "df['RIW DM'] = df['RIW DM'].map(mapping)"
   ]
  },
  {
   "cell_type": "code",
   "execution_count": 633,
   "id": "e6b60fef-e41a-490b-b574-aee5ae8fd34a",
   "metadata": {},
   "outputs": [],
   "source": [
    "# mengubah nilai pada kolom RIW HIPERTENSI/PE DALAM KELUARGA {'Tidak': 0, 'Ada': 1}\n",
    "# Ganti nilai di kolom 'RIW HIPERTENSI/PE DALAM KELUARGA' menggunakan map\n",
    "mapping = {\n",
    "    'Tidak': 0,\n",
    "    'Ada': 1\n",
    "}\n",
    "df['RIW HIPERTENSI/PE DALAM KELUARGA'] = df['RIW HIPERTENSI/PE DALAM KELUARGA'].map(mapping)"
   ]
  },
  {
   "cell_type": "code",
   "execution_count": 635,
   "id": "10ad6654-635b-47ca-83ed-b19a49825a24",
   "metadata": {},
   "outputs": [],
   "source": [
    "# mengubah nilai pada kolom SOSEK RENDAH {'>UMR': 0, '<UMR': 1}\n",
    "# Ganti nilai di kolom 'SOSEK RENDAH' menggunakan map\n",
    "mapping = {\n",
    "    '>UMR': 0,\n",
    "    '<UMR': 1\n",
    "}\n",
    "df['SOSEK RENDAH'] = df['SOSEK RENDAH'].map(mapping)"
   ]
  },
  {
   "cell_type": "code",
   "execution_count": 637,
   "id": "a4223d47-bec6-4247-9a44-3af03dfd76c3",
   "metadata": {},
   "outputs": [],
   "source": [
    "# Calculate the mode of the column\n",
    "mode_value = df['PE/Non PE'].mode()[0]\n",
    "\n",
    "# Replace NaN values with the mode\n",
    "df['PE/Non PE'] = df['PE/Non PE'].fillna(mode_value)\n",
    "\n",
    "df['PE/Non PE'] = df['PE/Non PE'].str.strip()"
   ]
  },
  {
   "cell_type": "code",
   "execution_count": 639,
   "id": "d00ff552-d8db-404b-bed3-bab4541cbc0a",
   "metadata": {},
   "outputs": [],
   "source": [
    "# Melakukan one-hot encoding pada kolom 'RIW PE'\n",
    "df = pd.get_dummies(df, columns=['PE/Non PE'], prefix='', drop_first=True)\n",
    "\n",
    "# Mengonversi kolom boolean menjadi integer (0 dan 1)\n",
    "df = df.astype({'_Non PE': 'int', \n",
    "                '_PE': 'int', \n",
    "                '_PEB': 'int',\n",
    "                '_PE gemelli': 'int',\n",
    "                '_PEB impending eklampsi': 'int',\n",
    "               })"
   ]
  },
  {
   "cell_type": "code",
   "execution_count": 647,
   "id": "06d94899-1fd8-4f3d-9f64-cf65366361d7",
   "metadata": {},
   "outputs": [],
   "source": [
    "# Save the DataFrame to an Excel file\n",
    "df.to_excel('datasiap.xlsx', index=False)"
   ]
  },
  {
   "cell_type": "code",
   "execution_count": null,
   "id": "64ab1d70-a3d0-4576-aabe-695525c5550f",
   "metadata": {},
   "outputs": [],
   "source": []
  }
 ],
 "metadata": {
  "kernelspec": {
   "display_name": "Python 3 (ipykernel)",
   "language": "python",
   "name": "python3"
  },
  "language_info": {
   "codemirror_mode": {
    "name": "ipython",
    "version": 3
   },
   "file_extension": ".py",
   "mimetype": "text/x-python",
   "name": "python",
   "nbconvert_exporter": "python",
   "pygments_lexer": "ipython3",
   "version": "3.12.3"
  }
 },
 "nbformat": 4,
 "nbformat_minor": 5
}
